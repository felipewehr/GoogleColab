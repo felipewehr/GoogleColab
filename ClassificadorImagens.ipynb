{
  "nbformat": 4,
  "nbformat_minor": 0,
  "metadata": {
    "colab": {
      "name": "ClassificadorImagens",
      "version": "0.3.2",
      "provenance": [],
      "collapsed_sections": [],
      "include_colab_link": true
    },
    "kernelspec": {
      "name": "python3",
      "display_name": "Python 3"
    },
    "accelerator": "GPU"
  },
  "cells": [
    {
      "cell_type": "markdown",
      "metadata": {
        "id": "view-in-github",
        "colab_type": "text"
      },
      "source": [
        "[![Open In Colab](https://colab.research.google.com/assets/colab-badge.svg)](https://colab.research.google.com/github/felipewehr/GoogleColab/blob/master/ClassificadorImagens.ipynb)"
      ]
    },
    {
      "metadata": {
        "id": "A-1NkCZSzLvf",
        "colab_type": "code",
        "colab": {}
      },
      "cell_type": "code",
      "source": [
        "from tensorflow.keras.applications.resnet50 import ResNet50\n",
        "from tensorflow.keras.preprocessing import image\n",
        "from tensorflow.keras.applications.resnet50 import preprocess_input, decode_predictions\n",
        "import numpy as np"
      ],
      "execution_count": 0,
      "outputs": []
    },
    {
      "metadata": {
        "id": "5cg9lW5m1I2S",
        "colab_type": "text"
      },
      "cell_type": "markdown",
      "source": [
        "##IMPORTANDO BIBLIOTECAS E REDE IMAGENET"
      ]
    },
    {
      "metadata": {
        "id": "AVP_AqWOz-A9",
        "colab_type": "code",
        "colab": {}
      },
      "cell_type": "code",
      "source": [
        "model = ResNet50(weights='imagenet')"
      ],
      "execution_count": 0,
      "outputs": []
    },
    {
      "metadata": {
        "id": "k8qxIuqi1G8S",
        "colab_type": "text"
      },
      "cell_type": "markdown",
      "source": [
        "##VERIFICANDO TAMANHO DA REDE"
      ]
    },
    {
      "metadata": {
        "id": "7Zz9YLja0Ina",
        "colab_type": "code",
        "colab": {}
      },
      "cell_type": "code",
      "source": [
        "model.summary()"
      ],
      "execution_count": 0,
      "outputs": []
    },
    {
      "metadata": {
        "id": "7Ya5Tto703_7",
        "colab_type": "text"
      },
      "cell_type": "markdown",
      "source": [
        "## REALIZANDO UPLOAD DE IMAGEM"
      ]
    },
    {
      "metadata": {
        "id": "s943kInG0b82",
        "colab_type": "code",
        "colab": {}
      },
      "cell_type": "code",
      "source": [
        "from google.colab import files\n",
        "\n",
        "uploaded = files.upload()\n",
        "\n",
        "for fn in uploaded.keys():\n",
        "  print('User uploaded file \"{name}\" with leght {lenght} bytes'.format(name=fn, lenght=len(uploaded[fn])))"
      ],
      "execution_count": 0,
      "outputs": []
    },
    {
      "metadata": {
        "id": "BfqaKdR83KoG",
        "colab_type": "text"
      },
      "cell_type": "markdown",
      "source": [
        "##CARREGANDO IMAGEM"
      ]
    },
    {
      "metadata": {
        "id": "v8U_xQJA2SbP",
        "colab_type": "code",
        "colab": {}
      },
      "cell_type": "code",
      "source": [
        "img_path = '600px-African_Bush_Elephant.jpg'\n",
        "img = image.load_img(img_path, target_size=(224,224))\n",
        "x = image.img_to_array(img)\n",
        "x = np.expand_dims(x, axis=0)\n",
        "x = preprocess_input(x)"
      ],
      "execution_count": 0,
      "outputs": []
    },
    {
      "metadata": {
        "id": "fQnLkICD3-gc",
        "colab_type": "code",
        "colab": {}
      },
      "cell_type": "code",
      "source": [
        "from matplotlib import pyplot as plt\n",
        "%matplotlib inline\n",
        "plt.imshow(img)\n",
        "plt.show(img)"
      ],
      "execution_count": 0,
      "outputs": []
    },
    {
      "metadata": {
        "id": "FQkgBgag5y7p",
        "colab_type": "text"
      },
      "cell_type": "markdown",
      "source": [
        "##REALIZANOD CLASSIFICAÇÃO DE IMAGEM"
      ]
    },
    {
      "metadata": {
        "id": "JFeo8d3V5x0y",
        "colab_type": "code",
        "colab": {}
      },
      "cell_type": "code",
      "source": [
        "preds = model.predict(x)"
      ],
      "execution_count": 0,
      "outputs": []
    },
    {
      "metadata": {
        "id": "w94qr-q96BLi",
        "colab_type": "text"
      },
      "cell_type": "markdown",
      "source": [
        "Decodificando resultados (classe, descrição, probabilidade)\n",
        "\n",
        "Mostrando as 3 classes mais relevantes"
      ]
    },
    {
      "metadata": {
        "id": "E7Jgc0kU6M16",
        "colab_type": "code",
        "colab": {}
      },
      "cell_type": "code",
      "source": [
        "print('Predicted: ', decode_predictions(preds, top=3)[0])"
      ],
      "execution_count": 0,
      "outputs": []
    },
    {
      "metadata": {
        "id": "OQB5gqQG7tVk",
        "colab_type": "code",
        "colab": {}
      },
      "cell_type": "code",
      "source": [
        ""
      ],
      "execution_count": 0,
      "outputs": []
    }
  ]
}